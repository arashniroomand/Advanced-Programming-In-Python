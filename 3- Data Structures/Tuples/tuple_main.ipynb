{
 "cells": [
  {
   "cell_type": "markdown",
   "id": "6b48951e",
   "metadata": {},
   "source": [
    "<div style=\"text-align: center;\">\n",
    "  <h1>Advanced Programming </h1>\n",
    "  <h2>Tuples</h2>\n",
    "  <h2>Professor: Dr. Sadegh Eskandari</h2>\n",
    "  <h2>Lecturer: Kiarash Dadpour</h2>\n",
    "</div>"
   ]
  },
  {
   "cell_type": "markdown",
   "id": "67e66843",
   "metadata": {},
   "source": [
    "#### A Python tuple is a collection of items, just like a list, but with one key difference: it cannot be changed after it is created. \n",
    "\n",
    "#### Tuples are written with parentheses () and are useful for storing data that should stay the same."
   ]
  },
  {
   "cell_type": "code",
   "execution_count": 1,
   "id": "238687ad",
   "metadata": {},
   "outputs": [
    {
     "name": "stdout",
     "output_type": "stream",
     "text": [
      "15\n",
      "37\n"
     ]
    }
   ],
   "source": [
    "coordinates = (15, 52, 37)\n",
    "print(coordinates[0])\n",
    "print(coordinates[2])"
   ]
  },
  {
   "cell_type": "markdown",
   "id": "d512681c",
   "metadata": {},
   "source": [
    "#### Let’s see what happens if we try to change one of the items in the tuple:\n"
   ]
  },
  {
   "cell_type": "code",
   "execution_count": 2,
   "id": "ae13dd2c",
   "metadata": {
    "scrolled": true
   },
   "outputs": [
    {
     "ename": "TypeError",
     "evalue": "'tuple' object does not support item assignment",
     "output_type": "error",
     "traceback": [
      "\u001b[1;31m---------------------------------------------------------------------------\u001b[0m",
      "\u001b[1;31mTypeError\u001b[0m                                 Traceback (most recent call last)",
      "Cell \u001b[1;32mIn[2], line 1\u001b[0m\n\u001b[1;32m----> 1\u001b[0m \u001b[43mcoordinates\u001b[49m\u001b[43m[\u001b[49m\u001b[38;5;241;43m0\u001b[39;49m\u001b[43m]\u001b[49m \u001b[38;5;241m=\u001b[39m \u001b[38;5;241m100\u001b[39m\n",
      "\u001b[1;31mTypeError\u001b[0m: 'tuple' object does not support item assignment"
     ]
    }
   ],
   "source": [
    "coordinates[0] = 100"
   ]
  },
  {
   "cell_type": "markdown",
   "id": "15ed78fb",
   "metadata": {},
   "source": [
    "#### Defining tuple with single element:"
   ]
  },
  {
   "cell_type": "code",
   "execution_count": 3,
   "id": "51cda791",
   "metadata": {
    "scrolled": true
   },
   "outputs": [
    {
     "name": "stdout",
     "output_type": "stream",
     "text": [
      "<class 'int'>\n"
     ]
    }
   ],
   "source": [
    "my_t = (3)\n",
    "print(type(my_t))"
   ]
  },
  {
   "cell_type": "code",
   "execution_count": 4,
   "id": "c97f0f99",
   "metadata": {
    "scrolled": false
   },
   "outputs": [
    {
     "name": "stdout",
     "output_type": "stream",
     "text": [
      "<class 'tuple'>\n"
     ]
    }
   ],
   "source": [
    "my_t = (3,)\n",
    "print(type(my_t))"
   ]
  },
  {
   "cell_type": "markdown",
   "id": "a9e852c2",
   "metadata": {},
   "source": [
    "#### Slicing"
   ]
  },
  {
   "cell_type": "code",
   "execution_count": 5,
   "id": "e64c83de",
   "metadata": {},
   "outputs": [
    {
     "data": {
      "text/plain": [
       "('c', 'python', 'golang', 'c++', 'swift', 'matlab')"
      ]
     },
     "execution_count": 5,
     "metadata": {},
     "output_type": "execute_result"
    }
   ],
   "source": [
    "langueges = (\"c\", \"python\", \"golang\",\"c++\", \"swift\", \"matlab\")\n",
    "langueges"
   ]
  },
  {
   "cell_type": "code",
   "execution_count": 6,
   "id": "ab790bc1",
   "metadata": {},
   "outputs": [
    {
     "data": {
      "text/plain": [
       "('python', 'golang')"
      ]
     },
     "execution_count": 6,
     "metadata": {},
     "output_type": "execute_result"
    }
   ],
   "source": [
    "langueges[1:3]"
   ]
  },
  {
   "cell_type": "code",
   "execution_count": 7,
   "id": "4afa4cdd",
   "metadata": {
    "scrolled": true
   },
   "outputs": [
    {
     "data": {
      "text/plain": [
       "('c', 'python', 'golang', 'c++')"
      ]
     },
     "execution_count": 7,
     "metadata": {},
     "output_type": "execute_result"
    }
   ],
   "source": [
    "langueges[:4]"
   ]
  },
  {
   "cell_type": "code",
   "execution_count": 8,
   "id": "8c7ba7d1",
   "metadata": {},
   "outputs": [
    {
     "data": {
      "text/plain": [
       "('matlab', 'swift', 'c++', 'golang', 'python', 'c')"
      ]
     },
     "execution_count": 8,
     "metadata": {},
     "output_type": "execute_result"
    }
   ],
   "source": [
    "langueges[::-1]"
   ]
  },
  {
   "cell_type": "markdown",
   "id": "5a0f1101",
   "metadata": {},
   "source": [
    "#### Nested Tuples"
   ]
  },
  {
   "cell_type": "code",
   "execution_count": 9,
   "id": "25a68aa8",
   "metadata": {},
   "outputs": [
    {
     "name": "stdout",
     "output_type": "stream",
     "text": [
      "Computer Science\n",
      "18.20\n"
     ]
    }
   ],
   "source": [
    "students = ((\"Ali\", \"Computer Science\", \"18.41\"),\n",
    "            (\"Reza\", \"Applied Mathematics\", \"18.20\"),\n",
    "            (\"Amir\", \"Computer Science\", \"17.60\"))\n",
    "s = students[0][1]\n",
    "print(s)\n",
    "s = students[1][2]\n",
    "print(s)"
   ]
  },
  {
   "cell_type": "markdown",
   "id": "9b5f9695",
   "metadata": {},
   "source": [
    "#### For Loop"
   ]
  },
  {
   "cell_type": "code",
   "execution_count": 10,
   "id": "aff0835d",
   "metadata": {
    "scrolled": true
   },
   "outputs": [
    {
     "name": "stdout",
     "output_type": "stream",
     "text": [
      "c\n",
      "python\n",
      "golang\n",
      "c++\n",
      "swift\n",
      "matlab\n"
     ]
    }
   ],
   "source": [
    "for l in langueges:\n",
    "    print(l)"
   ]
  },
  {
   "cell_type": "markdown",
   "id": "4ca85e35",
   "metadata": {},
   "source": [
    "#### Methods"
   ]
  },
  {
   "cell_type": "code",
   "execution_count": 11,
   "id": "cbf4b301",
   "metadata": {},
   "outputs": [
    {
     "data": {
      "text/plain": [
       "5"
      ]
     },
     "execution_count": 11,
     "metadata": {},
     "output_type": "execute_result"
    }
   ],
   "source": [
    "my_t = (17, 18, 16, 14, 18, 20, 19, 18, 17, 16, 14, 16, 18, 19, 17, 15, 10, 16, 18, 17, 20, 16, 14, 11, 15)\n",
    "my_t.count(16)"
   ]
  },
  {
   "cell_type": "code",
   "execution_count": 12,
   "id": "91340583",
   "metadata": {
    "scrolled": true
   },
   "outputs": [
    {
     "data": {
      "text/plain": [
       "2"
      ]
     },
     "execution_count": 12,
     "metadata": {},
     "output_type": "execute_result"
    }
   ],
   "source": [
    "langueges = (\"c\", \"python\", \"golang\",\"c++\", \"swift\", \"matlab\")\n",
    "langueges.index(\"golang\")"
   ]
  },
  {
   "cell_type": "markdown",
   "id": "78fa4e4f",
   "metadata": {},
   "source": [
    "#### Convert to List"
   ]
  },
  {
   "cell_type": "code",
   "execution_count": 13,
   "id": "7568a185",
   "metadata": {},
   "outputs": [
    {
     "data": {
      "text/plain": [
       "tuple"
      ]
     },
     "execution_count": 13,
     "metadata": {},
     "output_type": "execute_result"
    }
   ],
   "source": [
    "editors = (\"pycharm\", \"vscode\", \"vim\", \"jupyter notebook\")\n",
    "type(editors)"
   ]
  },
  {
   "cell_type": "code",
   "execution_count": 14,
   "id": "03c970ac",
   "metadata": {},
   "outputs": [
    {
     "data": {
      "text/plain": [
       "['pycharm', 'vscode', 'vim', 'jupyter notebook']"
      ]
     },
     "execution_count": 14,
     "metadata": {},
     "output_type": "execute_result"
    }
   ],
   "source": [
    "editors_list = list(editors)\n",
    "editors_list"
   ]
  },
  {
   "cell_type": "code",
   "execution_count": 15,
   "id": "1ca8c412",
   "metadata": {},
   "outputs": [
    {
     "data": {
      "text/plain": [
       "('pycharm', 'vscode', 'vim')"
      ]
     },
     "execution_count": 15,
     "metadata": {},
     "output_type": "execute_result"
    }
   ],
   "source": [
    "editors_list.pop()\n",
    "editors = tuple(editors_list)\n",
    "editors"
   ]
  },
  {
   "cell_type": "markdown",
   "id": "1284fdd3",
   "metadata": {},
   "source": [
    "#### Unpacking"
   ]
  },
  {
   "cell_type": "code",
   "execution_count": 16,
   "id": "8c3e9e54",
   "metadata": {
    "scrolled": true
   },
   "outputs": [
    {
     "name": "stdout",
     "output_type": "stream",
     "text": [
      "Amir Kia\n",
      "Burger\n"
     ]
    }
   ],
   "source": [
    "customer = (\"Amir Kia\", \"Burger\")\n",
    "name, food = customer\n",
    "print(name)\n",
    "print(food)"
   ]
  }
 ],
 "metadata": {
  "kernelspec": {
   "display_name": "Python 3 (ipykernel)",
   "language": "python",
   "name": "python3"
  },
  "language_info": {
   "codemirror_mode": {
    "name": "ipython",
    "version": 3
   },
   "file_extension": ".py",
   "mimetype": "text/x-python",
   "name": "python",
   "nbconvert_exporter": "python",
   "pygments_lexer": "ipython3",
   "version": "3.11.4"
  }
 },
 "nbformat": 4,
 "nbformat_minor": 5
}
