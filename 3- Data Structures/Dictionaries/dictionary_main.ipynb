{
 "cells": [
  {
   "cell_type": "markdown",
   "id": "ed303eb2",
   "metadata": {},
   "source": [
    "<div style=\"text-align: center;\">\n",
    "  <h1>Advanced Programming </h1>\n",
    "  <h2>Dictionaries</h2>\n",
    "  <h2>Professor: Dr. Sadegh Eskandari</h2>\n",
    "  <h2>Lecturer: Kiarash Dadpour</h2>\n",
    "</div>"
   ]
  },
  {
   "cell_type": "markdown",
   "id": "44f43cec",
   "metadata": {},
   "source": [
    "#### A Python dictionary is a collection of key-value pairs that allows you to store and retrieve data. \n",
    "#### Each key is unique, and it is used to access its corresponding value. \n",
    "#### Think of it like a real-life dictionary where a word (key) maps to its definition (value)."
   ]
  },
  {
   "cell_type": "markdown",
   "id": "25d0f52d",
   "metadata": {},
   "source": [
    "####  A Simple Dictionary\n"
   ]
  },
  {
   "cell_type": "code",
   "execution_count": 1,
   "id": "09faf558",
   "metadata": {},
   "outputs": [],
   "source": [
    "student = {\"name\":\"Kiarash\" , \"age\":20}"
   ]
  },
  {
   "cell_type": "markdown",
   "id": "c1ea6d10",
   "metadata": {},
   "source": [
    "####  Accessing Values in a Dictionary\n"
   ]
  },
  {
   "cell_type": "code",
   "execution_count": 2,
   "id": "873776f4",
   "metadata": {
    "scrolled": true
   },
   "outputs": [
    {
     "name": "stdout",
     "output_type": "stream",
     "text": [
      "Kiarash\n",
      "20\n"
     ]
    }
   ],
   "source": [
    "student_1 = {\"name\":\"Kiarash\" , \"age\":20, \"major\":\"Computer Science\"}\n",
    "\n",
    "print(student_1[\"name\"])\n",
    "print(student_1[\"age\"])"
   ]
  },
  {
   "cell_type": "markdown",
   "id": "3866398f",
   "metadata": {},
   "source": [
    "#### Adding New Key-Value Pairs\n"
   ]
  },
  {
   "cell_type": "code",
   "execution_count": 3,
   "id": "3cb28397",
   "metadata": {},
   "outputs": [
    {
     "data": {
      "text/plain": [
       "{'name': 'Kiarash', 'age': 20, 'major': 'Computer Science', 'in-year': 2022}"
      ]
     },
     "execution_count": 3,
     "metadata": {},
     "output_type": "execute_result"
    }
   ],
   "source": [
    "student_1[\"in-year\"] = 2022\n",
    "\n",
    "student_1"
   ]
  },
  {
   "cell_type": "markdown",
   "id": "e05fe2e6",
   "metadata": {},
   "source": [
    "####  Starting with an Empty Dictionary\n"
   ]
  },
  {
   "cell_type": "code",
   "execution_count": 4,
   "id": "46af8561",
   "metadata": {},
   "outputs": [
    {
     "data": {
      "text/plain": [
       "{'name': 'Amir', 'age': 21, 'major': 'Applied Mathematics'}"
      ]
     },
     "execution_count": 4,
     "metadata": {},
     "output_type": "execute_result"
    }
   ],
   "source": [
    "student_2 = {}\n",
    "\n",
    "student_2[\"name\"] = \"Amir\"\n",
    "student_2[\"age\"] = 21\n",
    "student_2[\"major\"] = \"Applied Mathematics\"\n",
    "\n",
    "student_2"
   ]
  },
  {
   "cell_type": "markdown",
   "id": "d151efed",
   "metadata": {},
   "source": [
    "####  Removing Key-Value Pairs\n"
   ]
  },
  {
   "cell_type": "code",
   "execution_count": 5,
   "id": "2958189f",
   "metadata": {},
   "outputs": [
    {
     "data": {
      "text/plain": [
       "{'name': 'Amir', 'age': 21, 'major': 'Applied Mathematics'}"
      ]
     },
     "execution_count": 5,
     "metadata": {},
     "output_type": "execute_result"
    }
   ],
   "source": [
    "student_2"
   ]
  },
  {
   "cell_type": "code",
   "execution_count": 6,
   "id": "dcf28019",
   "metadata": {},
   "outputs": [
    {
     "data": {
      "text/plain": [
       "{'name': 'Amir', 'major': 'Applied Mathematics'}"
      ]
     },
     "execution_count": 6,
     "metadata": {},
     "output_type": "execute_result"
    }
   ],
   "source": [
    "del student_2[\"age\"]\n",
    "\n",
    "student_2"
   ]
  },
  {
   "cell_type": "markdown",
   "id": "203289bd",
   "metadata": {},
   "source": [
    "#### A Dictionary of Similar Objects\n"
   ]
  },
  {
   "cell_type": "code",
   "execution_count": 7,
   "id": "ffcdc044",
   "metadata": {},
   "outputs": [],
   "source": [
    "favorite_languages = {\n",
    "    'amir': 'python',\n",
    "    'yasin': 'c++',\n",
    "    'ali': 'ruby',\n",
    "    'kiarash': 'python',\n",
    "    }"
   ]
  },
  {
   "cell_type": "code",
   "execution_count": 8,
   "id": "0d79523d",
   "metadata": {
    "scrolled": true
   },
   "outputs": [
    {
     "data": {
      "text/plain": [
       "\"Amir's favorite programming languege is PYTHON.\""
      ]
     },
     "execution_count": 8,
     "metadata": {},
     "output_type": "execute_result"
    }
   ],
   "source": [
    "f\"Amir's favorite programming languege is {favorite_languages['amir'].upper()}.\""
   ]
  },
  {
   "cell_type": "markdown",
   "id": "9599e5d9",
   "metadata": {},
   "source": [
    "#### get()"
   ]
  },
  {
   "cell_type": "code",
   "execution_count": 9,
   "id": "4a1d00bc",
   "metadata": {},
   "outputs": [
    {
     "data": {
      "text/plain": [
       "'python'"
      ]
     },
     "execution_count": 9,
     "metadata": {},
     "output_type": "execute_result"
    }
   ],
   "source": [
    "favorite_languages.get(\"kiarash\")"
   ]
  },
  {
   "cell_type": "code",
   "execution_count": 10,
   "id": "f01af198",
   "metadata": {},
   "outputs": [
    {
     "data": {
      "text/plain": [
       "'No point value assigned.'"
      ]
     },
     "execution_count": 10,
     "metadata": {},
     "output_type": "execute_result"
    }
   ],
   "source": [
    "favorite_languages.get(\"ahmad\", \"No point value assigned.\")"
   ]
  },
  {
   "cell_type": "markdown",
   "id": "4486220f",
   "metadata": {},
   "source": [
    "#### items()"
   ]
  },
  {
   "cell_type": "code",
   "execution_count": 11,
   "id": "fbbe8f21",
   "metadata": {
    "scrolled": true
   },
   "outputs": [
    {
     "data": {
      "text/plain": [
       "dict_items([('amir', 'python'), ('yasin', 'c++'), ('ali', 'ruby'), ('kiarash', 'python')])"
      ]
     },
     "execution_count": 11,
     "metadata": {},
     "output_type": "execute_result"
    }
   ],
   "source": [
    "favorite_languages.items()"
   ]
  },
  {
   "cell_type": "markdown",
   "id": "3229d212",
   "metadata": {},
   "source": [
    "#### values()"
   ]
  },
  {
   "cell_type": "code",
   "execution_count": 12,
   "id": "3bab6272",
   "metadata": {
    "scrolled": true
   },
   "outputs": [
    {
     "data": {
      "text/plain": [
       "dict_values(['python', 'c++', 'ruby', 'python'])"
      ]
     },
     "execution_count": 12,
     "metadata": {},
     "output_type": "execute_result"
    }
   ],
   "source": [
    "favorite_languages.values()"
   ]
  },
  {
   "cell_type": "markdown",
   "id": "afae2b97",
   "metadata": {},
   "source": [
    "#### keys()"
   ]
  },
  {
   "cell_type": "code",
   "execution_count": 13,
   "id": "8d0ce216",
   "metadata": {},
   "outputs": [
    {
     "data": {
      "text/plain": [
       "dict_keys(['amir', 'yasin', 'ali', 'kiarash'])"
      ]
     },
     "execution_count": 13,
     "metadata": {},
     "output_type": "execute_result"
    }
   ],
   "source": [
    "favorite_languages.keys()"
   ]
  },
  {
   "cell_type": "markdown",
   "id": "cb7f0520",
   "metadata": {},
   "source": [
    "#### For Loop"
   ]
  },
  {
   "cell_type": "code",
   "execution_count": 14,
   "id": "ccae91b3",
   "metadata": {
    "scrolled": true
   },
   "outputs": [
    {
     "name": "stdout",
     "output_type": "stream",
     "text": [
      "Amir\t\tPYTHON\n",
      "Yasin\t\tC++\n",
      "Ali\t\tRUBY\n",
      "Kiarash\t\tPYTHON\n"
     ]
    }
   ],
   "source": [
    "for k, v in favorite_languages.items():\n",
    "    print(f'{k.title()}\\t\\t{v.upper()}')"
   ]
  },
  {
   "cell_type": "markdown",
   "id": "f48b1ea1",
   "metadata": {},
   "source": [
    "####  A List of Dictionaries\n"
   ]
  },
  {
   "cell_type": "code",
   "execution_count": 15,
   "id": "fe0d9248",
   "metadata": {},
   "outputs": [
    {
     "data": {
      "text/plain": [
       "[{'name': 'ali', 'age': 20, 'major': 'Computer science'},\n",
       " {'name': 'sina', 'age': 18, 'major': 'Statistics'},\n",
       " {'name': 'amir', 'age': 24, 'major': 'Applied Mathematics'}]"
      ]
     },
     "execution_count": 15,
     "metadata": {},
     "output_type": "execute_result"
    }
   ],
   "source": [
    "student_1 = {\"name\":\"ali\", \"age\":20, \"major\":\"Computer science\"}\n",
    "student_2 = {\"name\":\"sina\", \"age\":18, \"major\":\"Statistics\"}\n",
    "student_3 = {\"name\":\"amir\", \"age\":24, \"major\":\"Applied Mathematics\"}\n",
    "\n",
    "students = [student_1, student_2, student_3]\n",
    "\n",
    "students"
   ]
  },
  {
   "cell_type": "code",
   "execution_count": 16,
   "id": "90534413",
   "metadata": {},
   "outputs": [
    {
     "data": {
      "text/plain": [
       "20"
      ]
     },
     "execution_count": 16,
     "metadata": {},
     "output_type": "execute_result"
    }
   ],
   "source": [
    "students[0].get(\"age\")"
   ]
  },
  {
   "cell_type": "code",
   "execution_count": 17,
   "id": "a33d85ad",
   "metadata": {},
   "outputs": [
    {
     "data": {
      "text/plain": [
       "dict_items([('name', 'sina'), ('age', 18), ('major', 'Statistics')])"
      ]
     },
     "execution_count": 17,
     "metadata": {},
     "output_type": "execute_result"
    }
   ],
   "source": [
    "students[1].items()"
   ]
  },
  {
   "cell_type": "code",
   "execution_count": 18,
   "id": "81985bd3",
   "metadata": {},
   "outputs": [
    {
     "data": {
      "text/plain": [
       "dict_values(['amir', 24, 'Applied Mathematics'])"
      ]
     },
     "execution_count": 18,
     "metadata": {},
     "output_type": "execute_result"
    }
   ],
   "source": [
    "students[2].values()"
   ]
  },
  {
   "cell_type": "markdown",
   "id": "abe41bc2",
   "metadata": {},
   "source": [
    "#### A List in a Dictionary\n"
   ]
  },
  {
   "cell_type": "code",
   "execution_count": 19,
   "id": "af304dae",
   "metadata": {},
   "outputs": [
    {
     "data": {
      "text/plain": [
       "dict_items([('amir', ['python', 'c++']), ('ali', ['matlab', 'python']), ('mehdi', ['c++', 'c#'])])"
      ]
     },
     "execution_count": 19,
     "metadata": {},
     "output_type": "execute_result"
    }
   ],
   "source": [
    "favorite_langueges = {\n",
    "    \"amir\":[\"python\", \"c++\"],\n",
    "    \"ali\":[\"matlab\", \"python\"],\n",
    "    \"mehdi\":[\"c++\", \"c#\"],\n",
    "}\n",
    "favorite_langueges.items()"
   ]
  },
  {
   "cell_type": "code",
   "execution_count": 20,
   "id": "248ffb58",
   "metadata": {
    "scrolled": true
   },
   "outputs": [
    {
     "name": "stdout",
     "output_type": "stream",
     "text": [
      "\n",
      "Amir's favorite languages are:\n",
      "\tPython\n",
      "\tC++\n",
      "\n",
      "Ali's favorite languages are:\n",
      "\tMatlab\n",
      "\tPython\n",
      "\n",
      "Mehdi's favorite languages are:\n",
      "\tC++\n",
      "\tC#\n"
     ]
    }
   ],
   "source": [
    "for name, languages in favorite_langueges.items():\n",
    "    print(f\"\\n{name.title()}'s favorite languages are:\")\n",
    "    for language in languages:\n",
    "        print(f\"\\t{language.title()}\")"
   ]
  },
  {
   "cell_type": "markdown",
   "id": "64c9bce5",
   "metadata": {},
   "source": [
    "####  A Dictionary in a Dictionary\n"
   ]
  },
  {
   "cell_type": "code",
   "execution_count": 21,
   "id": "dd3d9100",
   "metadata": {},
   "outputs": [
    {
     "data": {
      "text/plain": [
       "dict_items([('aeinstein', {'first': 'albert', 'last': 'einstein', 'location': 'princeton'}), ('mcurie', {'first': 'marie', 'last': 'curie', 'location': 'paris'})])"
      ]
     },
     "execution_count": 21,
     "metadata": {},
     "output_type": "execute_result"
    }
   ],
   "source": [
    "users = {\n",
    "    'aeinstein': {\n",
    "        'first': 'albert',\n",
    "        'last': 'einstein',\n",
    "        'location': 'princeton',\n",
    "        },\n",
    "    'mcurie': {\n",
    "        'first': 'marie',\n",
    "        'last': 'curie',\n",
    "        'location': 'paris',\n",
    "        },\n",
    "    }\n",
    "users.items()"
   ]
  },
  {
   "cell_type": "code",
   "execution_count": 22,
   "id": "8bce0532",
   "metadata": {},
   "outputs": [
    {
     "name": "stdout",
     "output_type": "stream",
     "text": [
      "\n",
      "Username: aeinstein\n",
      "\tFull name: Albert Einstein\n",
      "\tLocation: Princeton\n",
      "\n",
      "Username: mcurie\n",
      "\tFull name: Marie Curie\n",
      "\tLocation: Paris\n"
     ]
    }
   ],
   "source": [
    "for username, user_info in users.items():\n",
    "    print(f\"\\nUsername: {username}\")\n",
    "    full_name = f\"{user_info['first']} {user_info['last']}\"\n",
    "    location = user_info['location']\n",
    "    print(f\"\\tFull name: {full_name.title()}\")\n",
    "    print(f\"\\tLocation: {location.title()}\")"
   ]
  }
 ],
 "metadata": {
  "kernelspec": {
   "display_name": "Python 3 (ipykernel)",
   "language": "python",
   "name": "python3"
  },
  "language_info": {
   "codemirror_mode": {
    "name": "ipython",
    "version": 3
   },
   "file_extension": ".py",
   "mimetype": "text/x-python",
   "name": "python",
   "nbconvert_exporter": "python",
   "pygments_lexer": "ipython3",
   "version": "3.11.4"
  }
 },
 "nbformat": 4,
 "nbformat_minor": 5
}
