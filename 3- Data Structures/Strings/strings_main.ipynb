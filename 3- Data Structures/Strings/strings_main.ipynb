{
 "cells": [
  {
   "cell_type": "markdown",
   "id": "41e0c923",
   "metadata": {},
   "source": [
    "<div style=\"text-align: center;\">\n",
    "  <h1>Advanced Programming </h1>\n",
    "  <h2>Strings</h2>\n",
    "  <h2>Professor: Dr. Sadegh Eskandari</h2>\n",
    "  <h2>Lecturer: Kiarash Dadpour</h2>\n",
    "</div>"
   ]
  },
  {
   "cell_type": "markdown",
   "id": "ce7b9e32",
   "metadata": {},
   "source": [
    "#### A Python string is a sequence of characters enclosed in quotes. Strings are used to represent text in Python."
   ]
  },
  {
   "cell_type": "markdown",
   "id": "35858fec",
   "metadata": {},
   "source": [
    "####  A Simple String\n"
   ]
  },
  {
   "cell_type": "code",
   "execution_count": 1,
   "id": "1c17aa80",
   "metadata": {},
   "outputs": [],
   "source": [
    "text = \"hello woRld\""
   ]
  },
  {
   "cell_type": "markdown",
   "id": "700da3b5",
   "metadata": {},
   "source": [
    "#### title()"
   ]
  },
  {
   "cell_type": "code",
   "execution_count": 2,
   "id": "6b08bdc2",
   "metadata": {
    "scrolled": true
   },
   "outputs": [
    {
     "data": {
      "text/plain": [
       "'Hello World'"
      ]
     },
     "execution_count": 2,
     "metadata": {},
     "output_type": "execute_result"
    }
   ],
   "source": [
    "text.title()"
   ]
  },
  {
   "cell_type": "code",
   "execution_count": 3,
   "id": "30afbb78",
   "metadata": {},
   "outputs": [
    {
     "data": {
      "text/plain": [
       "'hello woRld'"
      ]
     },
     "execution_count": 3,
     "metadata": {},
     "output_type": "execute_result"
    }
   ],
   "source": [
    "text"
   ]
  },
  {
   "cell_type": "markdown",
   "id": "8b93922c",
   "metadata": {},
   "source": [
    "#### upper()"
   ]
  },
  {
   "cell_type": "code",
   "execution_count": 4,
   "id": "5a137557",
   "metadata": {},
   "outputs": [
    {
     "data": {
      "text/plain": [
       "'HELLO WORLD'"
      ]
     },
     "execution_count": 4,
     "metadata": {},
     "output_type": "execute_result"
    }
   ],
   "source": [
    "text.upper()"
   ]
  },
  {
   "cell_type": "markdown",
   "id": "1cde9ba7",
   "metadata": {},
   "source": [
    "#### lower()"
   ]
  },
  {
   "cell_type": "code",
   "execution_count": null,
   "id": "3056ea1e",
   "metadata": {},
   "outputs": [
    {
     "data": {
      "text/plain": [
       "'hello world'"
      ]
     },
     "execution_count": 5,
     "metadata": {},
     "output_type": "execute_result"
    }
   ],
   "source": [
    "text.lower()"
   ]
  },
  {
   "cell_type": "markdown",
   "id": "806f757d",
   "metadata": {},
   "source": [
    "#### capitalize()"
   ]
  },
  {
   "cell_type": "code",
   "execution_count": null,
   "id": "a7e3af8f",
   "metadata": {},
   "outputs": [],
   "source": [
    "text.capitalize()"
   ]
  },
  {
   "cell_type": "markdown",
   "id": "f5ce1445",
   "metadata": {},
   "source": [
    "#### Using Variables in Strings\n"
   ]
  },
  {
   "cell_type": "code",
   "execution_count": 7,
   "id": "f73f1b89",
   "metadata": {},
   "outputs": [
    {
     "name": "stdout",
     "output_type": "stream",
     "text": [
      "Hello KiArasH dadPoUr\n",
      "Hello Kiarash Dadpour\n"
     ]
    }
   ],
   "source": [
    "first_name = \"KiArasH\"\n",
    "last_name = \"dadPoUr\"\n",
    "full_name = f\"{first_name} {last_name}\".title()\n",
    "print(f\"Hello {first_name} {last_name}\")\n",
    "print(f\"Hello {full_name}\")"
   ]
  },
  {
   "cell_type": "markdown",
   "id": "0e8c74dc",
   "metadata": {},
   "source": [
    "####  Adding Whitespace to Strings with Tabs or Newlines\n"
   ]
  },
  {
   "cell_type": "code",
   "execution_count": 8,
   "id": "e7687b14",
   "metadata": {},
   "outputs": [
    {
     "name": "stdout",
     "output_type": "stream",
     "text": [
      "Python\n",
      "------------------------------\n",
      "Golang \tPython\n",
      "------------------------------\n",
      "Golang\n",
      "Python\n"
     ]
    }
   ],
   "source": [
    "print(\"Python\")\n",
    "print(\"-\" * 30)\n",
    "print(\"Golang \\tPython\")\n",
    "print(\"-\" * 30)\n",
    "print(\"Golang\\nPython\")"
   ]
  },
  {
   "cell_type": "code",
   "execution_count": 9,
   "id": "67ee1cc3",
   "metadata": {},
   "outputs": [
    {
     "name": "stdout",
     "output_type": "stream",
     "text": [
      "Languages:\n",
      "\tPython\n",
      "\tGolang\n"
     ]
    }
   ],
   "source": [
    "print(\"Languages:\\n\\tPython\\n\\tGolang\")"
   ]
  },
  {
   "cell_type": "markdown",
   "id": "fb83cf46",
   "metadata": {},
   "source": [
    "#### strip()"
   ]
  },
  {
   "cell_type": "code",
   "execution_count": 10,
   "id": "92068793",
   "metadata": {},
   "outputs": [
    {
     "name": "stdout",
     "output_type": "stream",
     "text": [
      "kiarasH dadPour  : 18\n"
     ]
    }
   ],
   "source": [
    "name = \"kiarasH dadPour        \"\n",
    "score = 18\n",
    "print(f\"{name.rstrip()}  : {score}\")"
   ]
  },
  {
   "cell_type": "code",
   "execution_count": 11,
   "id": "4f320464",
   "metadata": {},
   "outputs": [
    {
     "name": "stdout",
     "output_type": "stream",
     "text": [
      "My favorite car brand is BMW\n"
     ]
    }
   ],
   "source": [
    "car = \"bmw\"\n",
    "print(f\"My favorite car brand is {car.upper()}\")"
   ]
  },
  {
   "cell_type": "code",
   "execution_count": 12,
   "id": "1e5312bb",
   "metadata": {},
   "outputs": [
    {
     "name": "stdout",
     "output_type": "stream",
     "text": [
      "Kiarash Dadpour : 18\n"
     ]
    }
   ],
   "source": [
    "print(f\"{name.rstrip().title()} : {score}\")"
   ]
  },
  {
   "cell_type": "code",
   "execution_count": 13,
   "id": "4bd015d8",
   "metadata": {
    "scrolled": false
   },
   "outputs": [
    {
     "name": "stdout",
     "output_type": "stream",
     "text": [
      "         Kiarash Dadpour : 18\n",
      "Kiarash Dadpour : 18\n"
     ]
    }
   ],
   "source": [
    "name = \"         kiarash dadpour\"\n",
    "print(f\"{name.title()} : {score}\")\n",
    "print(f\"{name.title().lstrip()} : {score}\")"
   ]
  },
  {
   "cell_type": "code",
   "execution_count": 14,
   "id": "47775215",
   "metadata": {
    "scrolled": true
   },
   "outputs": [
    {
     "name": "stdout",
     "output_type": "stream",
     "text": [
      "         Kiaras Dadpour      : 18\n",
      "Kiaras Dadpour : 18\n"
     ]
    }
   ],
   "source": [
    "name = \"         kiaras dadpour     \"\n",
    "print(f\"{name.title()} : {score}\")\n",
    "print(f\"{name.title().strip()} : {score}\")"
   ]
  },
  {
   "cell_type": "markdown",
   "id": "530c1755",
   "metadata": {},
   "source": [
    "#### replace()"
   ]
  },
  {
   "cell_type": "code",
   "execution_count": 15,
   "id": "5c1e98c6",
   "metadata": {},
   "outputs": [
    {
     "data": {
      "text/plain": [
       "'Hello PYTHON'"
      ]
     },
     "execution_count": 15,
     "metadata": {},
     "output_type": "execute_result"
    }
   ],
   "source": [
    "text = \"hello world\".title()\n",
    "text.replace(\"World\", \"python\".upper())"
   ]
  },
  {
   "cell_type": "code",
   "execution_count": 16,
   "id": "880f16e2",
   "metadata": {},
   "outputs": [
    {
     "data": {
      "text/plain": [
       "'Hello'"
      ]
     },
     "execution_count": 16,
     "metadata": {},
     "output_type": "execute_result"
    }
   ],
   "source": [
    "text = \"hello world\".title()\n",
    "text.replace(\"World\", \"\").strip()"
   ]
  },
  {
   "cell_type": "markdown",
   "id": "ae0754b8",
   "metadata": {},
   "source": [
    "#### split()"
   ]
  },
  {
   "cell_type": "code",
   "execution_count": 17,
   "id": "5b23a46c",
   "metadata": {
    "scrolled": true
   },
   "outputs": [
    {
     "data": {
      "text/plain": [
       "['computer', 'science', 'and', 'artificial', 'intelligence']"
      ]
     },
     "execution_count": 17,
     "metadata": {},
     "output_type": "execute_result"
    }
   ],
   "source": [
    "text = \"computer science and artificial intelligence\".split()\n",
    "text"
   ]
  },
  {
   "cell_type": "code",
   "execution_count": 18,
   "id": "a6e8227e",
   "metadata": {},
   "outputs": [
    {
     "data": {
      "text/plain": [
       "['kiarash', 'computer science', '20', 'astara']"
      ]
     },
     "execution_count": 18,
     "metadata": {},
     "output_type": "execute_result"
    }
   ],
   "source": [
    "text = \"kiarash,computer science,20,astara\".split(',')\n",
    "text"
   ]
  },
  {
   "cell_type": "markdown",
   "id": "2a6c3ae3",
   "metadata": {},
   "source": [
    "#### join()"
   ]
  },
  {
   "cell_type": "code",
   "execution_count": 19,
   "id": "4d42dbca",
   "metadata": {
    "scrolled": true
   },
   "outputs": [
    {
     "name": "stdout",
     "output_type": "stream",
     "text": [
      "mercedes audi porche\n",
      "mercedes-audi-porche\n"
     ]
    }
   ],
   "source": [
    "cars = [\"mercedes\", \"audi\", \"porche\"]\n",
    "print(\" \".join(cars))\n",
    "print(\"-\".join(cars))"
   ]
  },
  {
   "cell_type": "markdown",
   "id": "92fa97f2",
   "metadata": {},
   "source": [
    "#### startswith()"
   ]
  },
  {
   "cell_type": "code",
   "execution_count": 20,
   "id": "72cf0928",
   "metadata": {},
   "outputs": [
    {
     "data": {
      "text/plain": [
       "True"
      ]
     },
     "execution_count": 20,
     "metadata": {},
     "output_type": "execute_result"
    }
   ],
   "source": [
    "text = \"Welcome to guilan university\"\n",
    "text.startswith(\"W\")"
   ]
  },
  {
   "cell_type": "code",
   "execution_count": 21,
   "id": "65e58dd5",
   "metadata": {},
   "outputs": [
    {
     "data": {
      "text/plain": [
       "True"
      ]
     },
     "execution_count": 21,
     "metadata": {},
     "output_type": "execute_result"
    }
   ],
   "source": [
    "text.startswith(\"We\")"
   ]
  },
  {
   "cell_type": "code",
   "execution_count": 22,
   "id": "826e8782",
   "metadata": {},
   "outputs": [
    {
     "data": {
      "text/plain": [
       "False"
      ]
     },
     "execution_count": 22,
     "metadata": {},
     "output_type": "execute_result"
    }
   ],
   "source": [
    "text.startswith(\"hi\")"
   ]
  },
  {
   "cell_type": "markdown",
   "id": "b8f7ce69",
   "metadata": {},
   "source": [
    "#### endswith()"
   ]
  },
  {
   "cell_type": "code",
   "execution_count": 23,
   "id": "1f74d21a",
   "metadata": {},
   "outputs": [
    {
     "data": {
      "text/plain": [
       "True"
      ]
     },
     "execution_count": 23,
     "metadata": {},
     "output_type": "execute_result"
    }
   ],
   "source": [
    "text.endswith(\"y\")"
   ]
  },
  {
   "cell_type": "code",
   "execution_count": 24,
   "id": "4eb82950",
   "metadata": {},
   "outputs": [
    {
     "data": {
      "text/plain": [
       "True"
      ]
     },
     "execution_count": 24,
     "metadata": {},
     "output_type": "execute_result"
    }
   ],
   "source": [
    "text.endswith(\"ty\")"
   ]
  },
  {
   "cell_type": "code",
   "execution_count": 25,
   "id": "0c664350",
   "metadata": {},
   "outputs": [
    {
     "data": {
      "text/plain": [
       "False"
      ]
     },
     "execution_count": 25,
     "metadata": {},
     "output_type": "execute_result"
    }
   ],
   "source": [
    "text.endswith(\" y\")"
   ]
  },
  {
   "cell_type": "markdown",
   "id": "8f0b345d",
   "metadata": {},
   "source": [
    "#### isalpha()"
   ]
  },
  {
   "cell_type": "code",
   "execution_count": 26,
   "id": "5b8743fb",
   "metadata": {},
   "outputs": [
    {
     "data": {
      "text/plain": [
       "True"
      ]
     },
     "execution_count": 26,
     "metadata": {},
     "output_type": "execute_result"
    }
   ],
   "source": [
    "text = \"python\"\n",
    "text.isalpha()"
   ]
  },
  {
   "cell_type": "code",
   "execution_count": 27,
   "id": "f19a41c4",
   "metadata": {},
   "outputs": [
    {
     "data": {
      "text/plain": [
       "False"
      ]
     },
     "execution_count": 27,
     "metadata": {},
     "output_type": "execute_result"
    }
   ],
   "source": [
    "text = \"python3\"\n",
    "text.isalpha()"
   ]
  },
  {
   "cell_type": "markdown",
   "id": "115bc5da",
   "metadata": {},
   "source": [
    "#### isnumeric()"
   ]
  },
  {
   "cell_type": "code",
   "execution_count": 28,
   "id": "fcbdbdbb",
   "metadata": {},
   "outputs": [
    {
     "data": {
      "text/plain": [
       "True"
      ]
     },
     "execution_count": 28,
     "metadata": {},
     "output_type": "execute_result"
    }
   ],
   "source": [
    "text = \"13\"\n",
    "text.isnumeric()"
   ]
  },
  {
   "cell_type": "code",
   "execution_count": 29,
   "id": "ae1e42f5",
   "metadata": {},
   "outputs": [
    {
     "data": {
      "text/plain": [
       "True"
      ]
     },
     "execution_count": 29,
     "metadata": {},
     "output_type": "execute_result"
    }
   ],
   "source": [
    "text = \"2024\"\n",
    "text.isnumeric()"
   ]
  },
  {
   "cell_type": "code",
   "execution_count": 30,
   "id": "938e5021",
   "metadata": {},
   "outputs": [
    {
     "data": {
      "text/plain": [
       "False"
      ]
     },
     "execution_count": 30,
     "metadata": {},
     "output_type": "execute_result"
    }
   ],
   "source": [
    "text = \"2024/05/09\"\n",
    "text.isnumeric()"
   ]
  },
  {
   "cell_type": "code",
   "execution_count": 31,
   "id": "07fd8de2",
   "metadata": {},
   "outputs": [
    {
     "data": {
      "text/plain": [
       "True"
      ]
     },
     "execution_count": 31,
     "metadata": {},
     "output_type": "execute_result"
    }
   ],
   "source": [
    "text = \"Ⅷ\"\n",
    "text.isnumeric()"
   ]
  },
  {
   "cell_type": "markdown",
   "id": "81ce70cc",
   "metadata": {},
   "source": [
    "#### isdigit()"
   ]
  },
  {
   "cell_type": "code",
   "execution_count": 32,
   "id": "9ad108c7",
   "metadata": {},
   "outputs": [
    {
     "data": {
      "text/plain": [
       "True"
      ]
     },
     "execution_count": 32,
     "metadata": {},
     "output_type": "execute_result"
    }
   ],
   "source": [
    "text = \"2024\"\n",
    "text.isdigit()"
   ]
  },
  {
   "cell_type": "code",
   "execution_count": 33,
   "id": "18b4e2ac",
   "metadata": {
    "scrolled": true
   },
   "outputs": [
    {
     "data": {
      "text/plain": [
       "False"
      ]
     },
     "execution_count": 33,
     "metadata": {},
     "output_type": "execute_result"
    }
   ],
   "source": [
    "text = \"Ⅷ\"\n",
    "text.isdigit()"
   ]
  }
 ],
 "metadata": {
  "kernelspec": {
   "display_name": "Python 3 (ipykernel)",
   "language": "python",
   "name": "python3"
  },
  "language_info": {
   "codemirror_mode": {
    "name": "ipython",
    "version": 3
   },
   "file_extension": ".py",
   "mimetype": "text/x-python",
   "name": "python",
   "nbconvert_exporter": "python",
   "pygments_lexer": "ipython3",
   "version": "3.11.4"
  }
 },
 "nbformat": 4,
 "nbformat_minor": 5
}
