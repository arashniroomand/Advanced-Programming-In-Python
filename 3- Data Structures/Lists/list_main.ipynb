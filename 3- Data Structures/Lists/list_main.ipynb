{
 "cells": [
  {
   "cell_type": "markdown",
   "id": "4a07e2d2",
   "metadata": {},
   "source": [
    "<div style=\"text-align: center;\">\n",
    "  <h1>Advanced Programming </h1>\n",
    "  <h2>Lists</h2>\n",
    "  <h2>Professor: Dr. Sadegh Eskandari</h2>\n",
    "  <h2>Lecturer: Kiarash Dadpour</h2>\n",
    "</div>"
   ]
  },
  {
   "cell_type": "markdown",
   "id": "f8ca7240",
   "metadata": {},
   "source": [
    "####  A Python list is an ordered, mutable collection that can hold items of any data type, such as numbers, strings, or other lists. Lists are defined using square brackets.\n"
   ]
  },
  {
   "cell_type": "markdown",
   "id": "98b649cc",
   "metadata": {},
   "source": [
    "####  A Simple List\n"
   ]
  },
  {
   "cell_type": "code",
   "execution_count": 1,
   "id": "cb028c48",
   "metadata": {},
   "outputs": [
    {
     "data": {
      "text/plain": [
       "['c', 'python', 'golang', 'c++', 'swift', 'matlab']"
      ]
     },
     "execution_count": 1,
     "metadata": {},
     "output_type": "execute_result"
    }
   ],
   "source": [
    "langueges = [\"c\", \"python\", \"golang\",\"c++\", \"swift\", \"matlab\"]\n",
    "langueges"
   ]
  },
  {
   "cell_type": "markdown",
   "id": "fee2dfec",
   "metadata": {},
   "source": [
    "#### Accessing Elements in a List"
   ]
  },
  {
   "cell_type": "code",
   "execution_count": 2,
   "id": "d4080481",
   "metadata": {},
   "outputs": [
    {
     "data": {
      "text/plain": [
       "'python'"
      ]
     },
     "execution_count": 2,
     "metadata": {},
     "output_type": "execute_result"
    }
   ],
   "source": [
    "langueges[1]"
   ]
  },
  {
   "cell_type": "code",
   "execution_count": 3,
   "id": "4ea49b6e",
   "metadata": {
    "scrolled": true
   },
   "outputs": [
    {
     "data": {
      "text/plain": [
       "'matlab'"
      ]
     },
     "execution_count": 3,
     "metadata": {},
     "output_type": "execute_result"
    }
   ],
   "source": [
    "langueges[-1]"
   ]
  },
  {
   "cell_type": "markdown",
   "id": "bc4442a0",
   "metadata": {},
   "source": [
    "#### Slicing"
   ]
  },
  {
   "cell_type": "code",
   "execution_count": 4,
   "id": "8c6a0f40",
   "metadata": {},
   "outputs": [
    {
     "data": {
      "text/plain": [
       "['python', 'golang', 'c++']"
      ]
     },
     "execution_count": 4,
     "metadata": {},
     "output_type": "execute_result"
    }
   ],
   "source": [
    "langueges[1:4]"
   ]
  },
  {
   "cell_type": "code",
   "execution_count": 5,
   "id": "c265e564",
   "metadata": {
    "scrolled": true
   },
   "outputs": [
    {
     "data": {
      "text/plain": [
       "['python', 'c++', 'matlab']"
      ]
     },
     "execution_count": 5,
     "metadata": {},
     "output_type": "execute_result"
    }
   ],
   "source": [
    "langueges[1::2]"
   ]
  },
  {
   "cell_type": "code",
   "execution_count": 6,
   "id": "383f2011",
   "metadata": {},
   "outputs": [
    {
     "data": {
      "text/plain": [
       "['c', 'golang', 'swift']"
      ]
     },
     "execution_count": 6,
     "metadata": {},
     "output_type": "execute_result"
    }
   ],
   "source": [
    "langueges[::2]"
   ]
  },
  {
   "cell_type": "markdown",
   "id": "b9a667cc",
   "metadata": {},
   "source": [
    "#### title()"
   ]
  },
  {
   "cell_type": "code",
   "execution_count": 7,
   "id": "cc74666a",
   "metadata": {},
   "outputs": [
    {
     "data": {
      "text/plain": [
       "'Python'"
      ]
     },
     "execution_count": 7,
     "metadata": {},
     "output_type": "execute_result"
    }
   ],
   "source": [
    "langueges[1].title()"
   ]
  },
  {
   "cell_type": "code",
   "execution_count": 8,
   "id": "4f9e8795",
   "metadata": {},
   "outputs": [
    {
     "name": "stdout",
     "output_type": "stream",
     "text": [
      "My favorite programming languege is Python.\n"
     ]
    }
   ],
   "source": [
    "print(f'My favorite programming languege is {langueges[1].title()}.')"
   ]
  },
  {
   "cell_type": "markdown",
   "id": "44e47db1",
   "metadata": {},
   "source": [
    "#### Modifying Elements in a List"
   ]
  },
  {
   "cell_type": "code",
   "execution_count": 9,
   "id": "dda84196",
   "metadata": {},
   "outputs": [
    {
     "data": {
      "text/plain": [
       "['java', 'python', 'golang', 'c++', 'swift', 'matlab']"
      ]
     },
     "execution_count": 9,
     "metadata": {},
     "output_type": "execute_result"
    }
   ],
   "source": [
    "langueges = [\"c\", \"python\", \"golang\",\"c++\", \"swift\", \"matlab\"]\n",
    "langueges[0] = \"java\"\n",
    "langueges"
   ]
  },
  {
   "cell_type": "markdown",
   "id": "b6d39fd0",
   "metadata": {},
   "source": [
    "#### append()"
   ]
  },
  {
   "cell_type": "code",
   "execution_count": 10,
   "id": "e11e2817",
   "metadata": {},
   "outputs": [
    {
     "data": {
      "text/plain": [
       "['java', 'python', 'golang', 'c++', 'swift', 'matlab', 'ruby', 'c#']"
      ]
     },
     "execution_count": 10,
     "metadata": {},
     "output_type": "execute_result"
    }
   ],
   "source": [
    "langueges.append(\"ruby\")\n",
    "langueges.append(\"c#\")\n",
    "langueges"
   ]
  },
  {
   "cell_type": "code",
   "execution_count": 11,
   "id": "3a7addd3",
   "metadata": {},
   "outputs": [
    {
     "data": {
      "text/plain": [
       "['Advanced Prograamming', 'Mathematical Analysis']"
      ]
     },
     "execution_count": 11,
     "metadata": {},
     "output_type": "execute_result"
    }
   ],
   "source": [
    "lessons = []\n",
    "lessons.append(\"Advanced Prograamming\")\n",
    "lessons.append(\"Mathematical Analysis\")\n",
    "lessons"
   ]
  },
  {
   "cell_type": "markdown",
   "id": "c3a6578b",
   "metadata": {},
   "source": [
    "#### insert()"
   ]
  },
  {
   "cell_type": "code",
   "execution_count": 12,
   "id": "9776e0aa",
   "metadata": {},
   "outputs": [
    {
     "data": {
      "text/plain": [
       "['Probability', 'Advanced Prograamming', 'Mathematical Analysis']"
      ]
     },
     "execution_count": 12,
     "metadata": {},
     "output_type": "execute_result"
    }
   ],
   "source": [
    "lessons.insert(0, \"Probability\")\n",
    "lessons"
   ]
  },
  {
   "cell_type": "markdown",
   "id": "7c3570e3",
   "metadata": {},
   "source": [
    "#### del"
   ]
  },
  {
   "cell_type": "code",
   "execution_count": 13,
   "id": "a998cf17",
   "metadata": {},
   "outputs": [
    {
     "data": {
      "text/plain": [
       "['Advanced Prograamming', 'Mathematical Analysis']"
      ]
     },
     "execution_count": 13,
     "metadata": {},
     "output_type": "execute_result"
    }
   ],
   "source": [
    "del lessons[-3]\n",
    "lessons"
   ]
  },
  {
   "cell_type": "markdown",
   "id": "ddfb17f0",
   "metadata": {},
   "source": [
    "#### pop()"
   ]
  },
  {
   "cell_type": "code",
   "execution_count": 14,
   "id": "26a5f9d4",
   "metadata": {
    "scrolled": true
   },
   "outputs": [
    {
     "name": "stdout",
     "output_type": "stream",
     "text": [
      "Mathematical Analysis\n"
     ]
    },
    {
     "data": {
      "text/plain": [
       "['Probability', 'Advanced Prograamming']"
      ]
     },
     "execution_count": 14,
     "metadata": {},
     "output_type": "execute_result"
    }
   ],
   "source": [
    "lessons = ['Probability', 'Advanced Prograamming', 'Mathematical Analysis']\n",
    "poped_element = lessons.pop()\n",
    "print(poped_element)\n",
    "lessons"
   ]
  },
  {
   "cell_type": "code",
   "execution_count": 15,
   "id": "41220e0d",
   "metadata": {},
   "outputs": [
    {
     "name": "stdout",
     "output_type": "stream",
     "text": [
      "Probability\n"
     ]
    },
    {
     "data": {
      "text/plain": [
       "['Advanced Prograamming']"
      ]
     },
     "execution_count": 15,
     "metadata": {},
     "output_type": "execute_result"
    }
   ],
   "source": [
    "poped_element = lessons.pop(0)\n",
    "print(poped_element)\n",
    "lessons"
   ]
  },
  {
   "cell_type": "markdown",
   "id": "69c5abd9",
   "metadata": {},
   "source": [
    "#### remove()"
   ]
  },
  {
   "cell_type": "code",
   "execution_count": 16,
   "id": "886f5a67",
   "metadata": {},
   "outputs": [
    {
     "name": "stdout",
     "output_type": "stream",
     "text": [
      "['bmw', 'audi', 'porsche']\n"
     ]
    }
   ],
   "source": [
    "cars = ['bmw', 'audi', 'toyota', 'porsche']\n",
    "cars.remove(\"toyota\")\n",
    "print(cars)"
   ]
  },
  {
   "cell_type": "markdown",
   "id": "1c01002a",
   "metadata": {},
   "source": [
    "#### sort()"
   ]
  },
  {
   "cell_type": "code",
   "execution_count": 17,
   "id": "912a8053",
   "metadata": {},
   "outputs": [
    {
     "data": {
      "text/plain": [
       "['audi', 'bmw', 'porsche', 'toyota']"
      ]
     },
     "execution_count": 17,
     "metadata": {},
     "output_type": "execute_result"
    }
   ],
   "source": [
    "cars = ['bmw', 'audi', 'toyota', 'porsche']\n",
    "cars.sort()\n",
    "cars"
   ]
  },
  {
   "cell_type": "code",
   "execution_count": 18,
   "id": "c8a3e06b",
   "metadata": {},
   "outputs": [
    {
     "data": {
      "text/plain": [
       "['toyota', 'porsche', 'bmw', 'audi']"
      ]
     },
     "execution_count": 18,
     "metadata": {},
     "output_type": "execute_result"
    }
   ],
   "source": [
    "cars = ['bmw', 'audi', 'toyota', 'porsche']\n",
    "cars.sort(reverse=True)\n",
    "cars"
   ]
  },
  {
   "cell_type": "markdown",
   "id": "de51d357",
   "metadata": {},
   "source": [
    "#### reverse()"
   ]
  },
  {
   "cell_type": "code",
   "execution_count": 19,
   "id": "c379703f",
   "metadata": {},
   "outputs": [
    {
     "data": {
      "text/plain": [
       "['porsche', 'toyota', 'audi', 'bmw']"
      ]
     },
     "execution_count": 19,
     "metadata": {},
     "output_type": "execute_result"
    }
   ],
   "source": [
    "cars = ['bmw', 'audi', 'toyota', 'porsche']\n",
    "cars.reverse()\n",
    "cars"
   ]
  },
  {
   "cell_type": "markdown",
   "id": "559d25e9",
   "metadata": {},
   "source": [
    "#### len()"
   ]
  },
  {
   "cell_type": "code",
   "execution_count": 20,
   "id": "f4c887fc",
   "metadata": {},
   "outputs": [
    {
     "data": {
      "text/plain": [
       "4"
      ]
     },
     "execution_count": 20,
     "metadata": {},
     "output_type": "execute_result"
    }
   ],
   "source": [
    "len(cars) "
   ]
  },
  {
   "cell_type": "markdown",
   "id": "2e83479d",
   "metadata": {},
   "source": [
    "#### For Loop"
   ]
  },
  {
   "cell_type": "code",
   "execution_count": 21,
   "id": "1239d5a9",
   "metadata": {
    "scrolled": true
   },
   "outputs": [
    {
     "name": "stdout",
     "output_type": "stream",
     "text": [
      "Pycharm\n",
      "Vscode\n",
      "Vim\n",
      "Jupyter Notebook\n"
     ]
    }
   ],
   "source": [
    "editors = [\"pycharm\", \"vscode\", \"vim\", \"jupyter notebook\"]\n",
    "for i in range(len(editors)):\n",
    "    print(editors[i].title())"
   ]
  },
  {
   "cell_type": "code",
   "execution_count": 22,
   "id": "13378926",
   "metadata": {},
   "outputs": [
    {
     "name": "stdout",
     "output_type": "stream",
     "text": [
      "Porsche\n",
      "Toyota\n",
      "Audi\n",
      "Bmw\n"
     ]
    }
   ],
   "source": [
    "for car in cars:\n",
    "    print(car.title())"
   ]
  }
 ],
 "metadata": {
  "kernelspec": {
   "display_name": "Python 3 (ipykernel)",
   "language": "python",
   "name": "python3"
  },
  "language_info": {
   "codemirror_mode": {
    "name": "ipython",
    "version": 3
   },
   "file_extension": ".py",
   "mimetype": "text/x-python",
   "name": "python",
   "nbconvert_exporter": "python",
   "pygments_lexer": "ipython3",
   "version": "3.11.4"
  }
 },
 "nbformat": 4,
 "nbformat_minor": 5
}
