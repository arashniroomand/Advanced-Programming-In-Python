{
 "cells": [
  {
   "cell_type": "markdown",
   "id": "3f64dede",
   "metadata": {},
   "source": [
    "<div style=\"text-align: center;\">\n",
    "  <h1>نمونه سوالات میان ترم برنامه سازی پیشرفته</h1>\n",
    "  <h2>استاد : دکتر صادق اسکندری</h2>\n",
    "  <h3>گرد آورنده گان: عسل محمودی نژاد و کیارش دادپور</h3>\n",
    "</div>\n"
   ]
  },
  {
   "cell_type": "markdown",
   "id": "76f94edf",
   "metadata": {},
   "source": [
    "<div style=\"text-align: right;\">\n",
    "  <h3> سوال 1: زبان های برنامه نویسی کامپایلری و زبان های مفسری را تعریف کرده مزایا و معایب هر یک را بیان کرده و برای هر کدام یک مثال بیاورید </h3>\n",
    "</div>"
   ]
  },
  {
   "cell_type": "markdown",
   "id": "f9db14a6",
   "metadata": {},
   "source": [
    "<div style=\"text-align: right;\">\n",
    "  <h3> سوال 2: نوع داده را تعریف کرده و انواع داده های درون ساخت در پایتون را نام ببرید</h3>\n",
    "</div>"
   ]
  },
  {
   "cell_type": "markdown",
   "id": "44029bd3",
   "metadata": {},
   "source": [
    "<div style=\"text-align: right;\">\n",
    "  <h3> سوال 3: برای هر یک از موارد زیر یک تابع بنویسید</h3>\n",
    "</div>"
   ]
  },
  {
   "cell_type": "markdown",
   "id": "4bf418fe",
   "metadata": {},
   "source": [
    "<div style=\"text-align: right;\">\n",
    "  <h4> الف) تابعی که یک عدد را به عنوان ورودی دریافت کرده و تعداد ارقام آن را محاسبه کند</h4>\n",
    "</div>"
   ]
  },
  {
   "cell_type": "code",
   "execution_count": 1,
   "id": "867663ca",
   "metadata": {},
   "outputs": [],
   "source": [
    "def count_digits(number):\n",
    "    count=0\n",
    "    while number > 0:\n",
    "        number //= 10\n",
    "        count +=1\n",
    "    return count"
   ]
  },
  {
   "cell_type": "code",
   "execution_count": 2,
   "id": "6e926df7",
   "metadata": {},
   "outputs": [
    {
     "name": "stdout",
     "output_type": "stream",
     "text": [
      "enter a number :5\n",
      "1\n"
     ]
    }
   ],
   "source": [
    "result=count_digits(number)"
   ]
  },
  {
   "cell_type": "markdown",
   "id": "b2581a7b",
   "metadata": {},
   "source": [
    "<div style=\"text-align: right;\">\n",
    "  <h4> ب) تابعی که یک عدد را به عنوان ورودی دریافت کرده و مجموع مجذور ارقام ام را محاسبه کند</h4>\n",
    "</div>"
   ]
  },
  {
   "cell_type": "code",
   "execution_count": 3,
   "id": "97dbf75e",
   "metadata": {},
   "outputs": [],
   "source": [
    "def digits_square(num):\n",
    "    sum = 0\n",
    "    while num > 0:\n",
    "        n = num % 10\n",
    "        sum = sum + n ** 2\n",
    "        num = num // 10\n",
    "    return sum"
   ]
  },
  {
   "cell_type": "code",
   "execution_count": 4,
   "id": "bb64a25d",
   "metadata": {},
   "outputs": [
    {
     "data": {
      "text/plain": [
       "6"
      ]
     },
     "execution_count": 4,
     "metadata": {},
     "output_type": "execute_result"
    }
   ],
   "source": [
    "digits_square(121)"
   ]
  },
  {
   "cell_type": "markdown",
   "id": "b5012d53",
   "metadata": {},
   "source": [
    "<div style=\"text-align: right;\">\n",
    "  <h4> ج) تابعی که یک عدد را به عنوان ورودی دریافت کرده و تعداد اعداد اول کوچکتر از ان عدد را به عنوان خروجی تولید کنند</h4>\n",
    "</div>"
   ]
  },
  {
   "cell_type": "markdown",
   "id": "2f02e0d1",
   "metadata": {},
   "source": []
  },
  {
   "cell_type": "code",
   "execution_count": 5,
   "id": "d51a482f",
   "metadata": {},
   "outputs": [],
   "source": [
    "def prev_prime(num):\n",
    "    count = 0\n",
    "    i = 2\n",
    "    while i <= num:\n",
    "        if is_prime(i):\n",
    "            count += 1\n",
    "            print(i)\n",
    "        i += 1\n",
    "    return f\"Count of prime numbers: {count}\"\n",
    "\n",
    "\n",
    "def is_prime(num):\n",
    "    i = 2\n",
    "    flag = True\n",
    "    while i <= (num ** (1/2)):\n",
    "        if num % i == 0:\n",
    "            flag = False\n",
    "            return flag\n",
    "        i += 1\n",
    "    return flag"
   ]
  },
  {
   "cell_type": "code",
   "execution_count": 6,
   "id": "a07525f8",
   "metadata": {},
   "outputs": [
    {
     "name": "stdout",
     "output_type": "stream",
     "text": [
      "2\n",
      "3\n",
      "5\n",
      "7\n",
      "11\n",
      "13\n"
     ]
    },
    {
     "data": {
      "text/plain": [
       "'Count of prime numbers: 6'"
      ]
     },
     "execution_count": 6,
     "metadata": {},
     "output_type": "execute_result"
    }
   ],
   "source": [
    "prev_prime(15)"
   ]
  },
  {
   "cell_type": "markdown",
   "id": "58e858a9",
   "metadata": {},
   "source": [
    "<div style=\"text-align: right;\">\n",
    "  <h3>  سوال 4: برای هر یک از موارد زیر یک تابع بازگشتی طراحی کنید</h3>\n",
    "</div>"
   ]
  },
  {
   "cell_type": "markdown",
   "id": "f5234fa8",
   "metadata": {},
   "source": [
    "<div style=\"text-align: right;\">\n",
    "  <h4>   الف) تابعی که دو عدد را به عنوان دریافت کرده و بزرگترین مقسوم علیه مشترک فرد انها را محاسبه کند </h4>\n",
    "</div>"
   ]
  },
  {
   "cell_type": "code",
   "execution_count": 7,
   "id": "1ec22ac9",
   "metadata": {},
   "outputs": [],
   "source": [
    "def gcd(num1, num2, i=1): \n",
    "    if i > min(num1, num2):\n",
    "        return []\n",
    "    if num1 % i == 0 and num2 % i == 0:\n",
    "        return [i] + gcd(num1, num2, i + 1)\n",
    "    else:\n",
    "        return gcd(num1, num2, i + 1)"
   ]
  },
  {
   "cell_type": "code",
   "execution_count": 8,
   "id": "ec098c2a",
   "metadata": {},
   "outputs": [
    {
     "data": {
      "text/plain": [
       "[1, 2, 3, 4, 6, 12]"
      ]
     },
     "execution_count": 8,
     "metadata": {},
     "output_type": "execute_result"
    }
   ],
   "source": [
    "gcd(12, 24)"
   ]
  },
  {
   "cell_type": "code",
   "execution_count": 12,
   "id": "cd7478bb",
   "metadata": {},
   "outputs": [
    {
     "name": "stdout",
     "output_type": "stream",
     "text": [
      "3\n"
     ]
    }
   ],
   "source": [
    "lst = gcd(12, 24)\n",
    "for num  in lst[-1::-1]:\n",
    "    if num % 2 != 0:\n",
    "        print(num)\n",
    "        break"
   ]
  },
  {
   "cell_type": "markdown",
   "id": "07ca58a4",
   "metadata": {},
   "source": [
    "<div style=\"text-align: right;\">\n",
    "  <h4> ب) یک تابع بازگشتی بنویسید که یک عدد را دریافت کرده و خاص بودن ام را بررسی کند </h4>\n",
    "</div>"
   ]
  },
  {
   "cell_type": "code",
   "execution_count": null,
   "id": "4e5676a7",
   "metadata": {},
   "outputs": [],
   "source": [
    "def is_even(num):\n",
    "    if num % 2 == 0:\n",
    "        return True\n",
    "    return False\n",
    "\n",
    "\n",
    "def is_special(num):\n",
    "    num = str(num)\n",
    "    num_length = len(num)\n",
    "    if num_length <= 1:\n",
    "        return True\n",
    "    if is_even(int(num[0])) == is_even(int(num[-1])): \n",
    "        return False\n",
    "    return is_special(num[1:-1])"
   ]
  },
  {
   "cell_type": "code",
   "execution_count": null,
   "id": "181a7a2f",
   "metadata": {},
   "outputs": [],
   "source": [
    "is_special(52)"
   ]
  }
 ],
 "metadata": {
  "kernelspec": {
   "display_name": "Python 3 (ipykernel)",
   "language": "python",
   "name": "python3"
  },
  "language_info": {
   "codemirror_mode": {
    "name": "ipython",
    "version": 3
   },
   "file_extension": ".py",
   "mimetype": "text/x-python",
   "name": "python",
   "nbconvert_exporter": "python",
   "pygments_lexer": "ipython3",
   "version": "3.11.4"
  }
 },
 "nbformat": 4,
 "nbformat_minor": 5
}
